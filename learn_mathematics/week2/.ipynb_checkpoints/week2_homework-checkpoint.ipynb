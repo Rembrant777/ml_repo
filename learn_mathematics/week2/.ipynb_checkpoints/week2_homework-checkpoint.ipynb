{
 "cells": [
  {
   "cell_type": "markdown",
   "id": "81a1f5e2",
   "metadata": {},
   "source": [
    "# System of Linear Equations "
   ]
  },
  {
   "cell_type": "markdown",
   "id": "34f978a2",
   "metadata": {},
   "source": [
    "Welcome to the first assignment of the Course 1. From the lecture videos you learned about the systems of linear equations and the approach to find their solutions using row reduction. \n",
    "\n",
    "**After this assignment you will be able to : **\n",
    "- Use `NumPy` package to set up the arrays corresponding to the system of linear equations\n",
    "- Evaluate the determinant of a matrix and find the solution of the system with `NumPy` linear algebra package \n",
    "- Perform row reduction to bring matrix into row echelon form\n",
    "- Find the solution for the system of linear equations using row reduced matrix "
   ]
  },
  {
   "cell_type": "markdown",
   "id": "acc974dc",
   "metadata": {},
   "source": [
    "# Table of Contentx \n",
    "- [ 1 - System of Linear Equations and Corresponding `NumPy` Arrays](#1)\n",
    "    - [ Exercise 1](#ex01)\n",
    "- [ 2 - Solution for the System of Equations with `NumPy` Linear Algebra package](#2)\n",
    "    - [ Exercise 2](#ex02)\n",
    "- [ 3 - Elementary Operations and Row Reduction](#3)\n",
    "    - [ - Exercise 3](#ex03)\n",
    "    - [ - Exercise 4](#ex04)\n",
    "- [ 4 - Solution for the System of Equations using Row Reduction](#4)\n",
    "    - [ - Exercise 5](#ex05)\n",
    "    - [ - Exercise 6](#ex06)"
   ]
  },
  {
   "cell_type": "markdown",
   "id": "4bf88d61",
   "metadata": {},
   "source": [
    "## Packages \n",
    "\n",
    "Run the following cell to load the packages you'll need. "
   ]
  },
  {
   "cell_type": "code",
   "execution_count": 1,
   "id": "ca4e1ce7",
   "metadata": {},
   "outputs": [],
   "source": [
    "import numpy as np"
   ]
  },
  {
   "cell_type": "code",
   "execution_count": null,
   "id": "6dca35eb",
   "metadata": {},
   "outputs": [],
   "source": []
  },
  {
   "cell_type": "code",
   "execution_count": null,
   "id": "e7ec1b58",
   "metadata": {},
   "outputs": [],
   "source": []
  },
  {
   "cell_type": "code",
   "execution_count": null,
   "id": "3b680701",
   "metadata": {},
   "outputs": [],
   "source": []
  },
  {
   "cell_type": "code",
   "execution_count": null,
   "id": "8a881e11",
   "metadata": {},
   "outputs": [],
   "source": []
  },
  {
   "cell_type": "code",
   "execution_count": null,
   "id": "3dd26102",
   "metadata": {},
   "outputs": [],
   "source": []
  },
  {
   "cell_type": "code",
   "execution_count": null,
   "id": "60019be6",
   "metadata": {},
   "outputs": [],
   "source": []
  },
  {
   "cell_type": "code",
   "execution_count": null,
   "id": "03c61b51",
   "metadata": {},
   "outputs": [],
   "source": []
  },
  {
   "cell_type": "code",
   "execution_count": null,
   "id": "541e4589",
   "metadata": {},
   "outputs": [],
   "source": []
  },
  {
   "cell_type": "code",
   "execution_count": null,
   "id": "e6ef5a93",
   "metadata": {},
   "outputs": [],
   "source": []
  },
  {
   "cell_type": "code",
   "execution_count": null,
   "id": "b8979c26",
   "metadata": {},
   "outputs": [],
   "source": []
  }
 ],
 "metadata": {
  "kernelspec": {
   "display_name": "Python 3 (ipykernel)",
   "language": "python",
   "name": "python3"
  },
  "language_info": {
   "codemirror_mode": {
    "name": "ipython",
    "version": 3
   },
   "file_extension": ".py",
   "mimetype": "text/x-python",
   "name": "python",
   "nbconvert_exporter": "python",
   "pygments_lexer": "ipython3",
   "version": "3.9.6"
  }
 },
 "nbformat": 4,
 "nbformat_minor": 5
}
