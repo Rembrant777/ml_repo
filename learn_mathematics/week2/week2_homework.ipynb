{
 "cells": [
  {
   "cell_type": "markdown",
   "id": "99fc59a6",
   "metadata": {},
   "source": [
    "# System of Linear Equations "
   ]
  },
  {
   "cell_type": "markdown",
   "id": "a4f3ac33",
   "metadata": {},
   "source": [
    "Welcome to the first assignment of the Course 1. From the lecture videos you learned about the systems of linear equations and the approach to find their solutions using row reduction. \n",
    "\n",
    "**After this assignment you will be able to : **\n",
    "- Use `NumPy` package to set up the arrays corresponding to the system of linear equations\n",
    "- Evaluate the determinant of a matrix and find the solution of the system with `NumPy` linear algebra package \n",
    "- Perform row reduction to bring matrix into row echelon form\n",
    "- Find the solution for the system of linear equations using row reduced matrix "
   ]
  },
  {
   "cell_type": "markdown",
   "id": "165c810a",
   "metadata": {},
   "source": [
    "# Table of Contentx \n",
    "- [ 1 - System of Linear Equations and Corresponding `NumPy` Arrays](#1)\n",
    "    - [ Exercise 1](#ex01)\n",
    "- [ 2 - Solution for the System of Equations with `NumPy` Linear Algebra package](#2)\n",
    "    - [ Exercise 2](#ex02)\n",
    "- [ 3 - Elementary Operations and Row Reduction](#3)\n",
    "    - [ - Exercise 3](#ex03)\n",
    "    - [ - Exercise 4](#ex04)\n",
    "- [ 4 - Solution for the System of Equations using Row Reduction](#4)\n",
    "    - [ - Exercise 5](#ex05)\n",
    "    - [ - Exercise 6](#ex06)"
   ]
  },
  {
   "cell_type": "markdown",
   "id": "048f23f5",
   "metadata": {},
   "source": [
    "## Packages \n",
    "\n",
    "Run the following cell to load the packages you'll need. "
   ]
  },
  {
   "cell_type": "code",
   "execution_count": 2,
   "id": "61599356",
   "metadata": {},
   "outputs": [],
   "source": [
    "import numpy as np"
   ]
  },
  {
   "cell_type": "markdown",
   "id": "14739369",
   "metadata": {},
   "source": [
    "Load the unit tests defined specificially for this notebook"
   ]
  },
  {
   "cell_type": "code",
   "execution_count": 3,
   "id": "607d4539",
   "metadata": {},
   "outputs": [
    {
     "ename": "ModuleNotFoundError",
     "evalue": "No module named 'w2_unittest'",
     "output_type": "error",
     "traceback": [
      "\u001b[0;31m---------------------------------------------------------------------------\u001b[0m",
      "\u001b[0;31mModuleNotFoundError\u001b[0m                       Traceback (most recent call last)",
      "Cell \u001b[0;32mIn[3], line 1\u001b[0m\n\u001b[0;32m----> 1\u001b[0m \u001b[38;5;28;01mimport\u001b[39;00m \u001b[38;5;21;01mw2_unittest\u001b[39;00m\n",
      "\u001b[0;31mModuleNotFoundError\u001b[0m: No module named 'w2_unittest'"
     ]
    }
   ],
   "source": []
  },
  {
   "cell_type": "code",
   "execution_count": null,
   "id": "da840525",
   "metadata": {},
   "outputs": [],
   "source": []
  },
  {
   "cell_type": "code",
   "execution_count": null,
   "id": "a050c690",
   "metadata": {},
   "outputs": [],
   "source": []
  },
  {
   "cell_type": "code",
   "execution_count": null,
   "id": "33b30cae",
   "metadata": {},
   "outputs": [],
   "source": []
  },
  {
   "cell_type": "code",
   "execution_count": null,
   "id": "16cbd7b0",
   "metadata": {},
   "outputs": [],
   "source": []
  },
  {
   "cell_type": "code",
   "execution_count": null,
   "id": "c63a42de",
   "metadata": {},
   "outputs": [],
   "source": []
  },
  {
   "cell_type": "code",
   "execution_count": null,
   "id": "4ddf2d63",
   "metadata": {},
   "outputs": [],
   "source": []
  },
  {
   "cell_type": "code",
   "execution_count": null,
   "id": "44704032",
   "metadata": {},
   "outputs": [],
   "source": []
  },
  {
   "cell_type": "code",
   "execution_count": null,
   "id": "b852e922",
   "metadata": {},
   "outputs": [],
   "source": []
  }
 ],
 "metadata": {
  "kernelspec": {
   "display_name": "Python 3 (ipykernel)",
   "language": "python",
   "name": "python3"
  },
  "language_info": {
   "codemirror_mode": {
    "name": "ipython",
    "version": 3
   },
   "file_extension": ".py",
   "mimetype": "text/x-python",
   "name": "python",
   "nbconvert_exporter": "python",
   "pygments_lexer": "ipython3",
   "version": "3.9.6"
  }
 },
 "nbformat": 4,
 "nbformat_minor": 5
}
