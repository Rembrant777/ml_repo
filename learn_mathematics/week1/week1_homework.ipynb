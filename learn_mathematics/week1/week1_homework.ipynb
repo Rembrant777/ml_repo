{
 "cells": [
  {
   "cell_type": "markdown",
   "id": "364f4bd4",
   "metadata": {},
   "source": [
    "# Introduction to Python Matrices and NumPy #"
   ]
  },
  {
   "cell_type": "markdown",
   "id": "f251a41c",
   "metadata": {},
   "source": [
    "Welcome to your first notebook of this specification! In this notebook, you will use NumPy to create 2-D arrays and easily compute mathematical operations. Numpy(Numerical Python) is an open-source package that is widely used in science and engineering. Feel free to skip this notebook if you are already fluent with NumPy.\n",
    "\n",
    "### After this assignment you will be able to:\n",
    "* Use Jupyter Notebook and its features.\n",
    "* Use NumPy functions to create arrays and NumPy array operations.\n",
    "* Use indexing and slicing for 2-D arrays.\n",
    "* Find the shape of an array, reshape it and stack it horizontally and vertically.\n",
    "\n",
    "### Instructions \n",
    "* You will be using Python3.\n",
    "* Follow along the cells using `Shift` + `Enter`. Alternatively, you can press `Run` in the menu. "
   ]
  },
  {
   "cell_type": "markdown",
   "id": "37d02238",
   "metadata": {},
   "source": [
    "## Table of Contents ## \n",
    "[About Jupyter Notebooks](#0)\n",
    "- [1 - Basics of NumPy](#1)\n",
    "   - [1.1 - Packages](#1-1)\n",
    "   - [1.2 - Advantages of using NumPy arrays](#1-2)\n",
    "   - [1.3 - How to create NumPy arrays](#1-3)\n",
    "   - [1.4 - More on NumPy arrays](#1-4)\n",
    "- [2 - Multidimensional arrays](#2)\n",
    "   - [2.1 - Finding size, shape and dimension](#2-1)\n",
    "- [3 - Array match operations](#3)\n",
    "   - [3.1 - Multiplying vector with a scalar (broadcasting)](#3-1)\n",
    "- [4 - Indexing and slicing](#4)\n",
    "   - [4.1 - Indexing](#4-1)\n",
    "   - [4.2 - Slicing](#4-2)\n",
    "- [5 - Stacking](#5)\n",
    "- [6 - Exercises](#6)"
   ]
  },
  {
   "cell_type": "markdown",
   "id": "1db6e0b6",
   "metadata": {},
   "source": [
    "<a name='0'> </a>\n",
    "\n",
    "## About Jupyter NoteBooks ## \n",
    "Jupyter Notebooks are interactive coding journals that integrate live code, explanatory text, equations,\n",
    "visualizations and other multimedia resources, all in a single document. As a first exercise, run the test snippet below and the print statement cell for \"Hello World\"."
   ]
  },
  {
   "cell_type": "code",
   "execution_count": 2,
   "id": "fb2391ac",
   "metadata": {},
   "outputs": [],
   "source": [
    "# run the \"hello world\" in the cell below to print \"hello world\"\n",
    "test = \"hello world\""
   ]
  },
  {
   "cell_type": "code",
   "execution_count": 3,
   "id": "3c290c7d",
   "metadata": {},
   "outputs": [
    {
     "name": "stdout",
     "output_type": "stream",
     "text": [
      "hello world\n"
     ]
    }
   ],
   "source": [
    "print(test)"
   ]
  },
  {
   "cell_type": "markdown",
   "id": "209d7db8",
   "metadata": {},
   "source": [
    "<a name=\"1\"></a>\n",
    "# 1 - Basics of NumPy # \n",
    "\n",
    "Numpy is the main package for scientific computing in Python. It performs a wide variety of advanced mathematical operations with high efficiency. In this practice lab you will learn several key NumPy functions that will help you in future assignment, such as creating arrays, slicing, indexing, reshaping and stacking. "
   ]
  },
  {
   "cell_type": "markdown",
   "id": "25ea9052",
   "metadata": {},
   "source": [
    "<a name=\"1-1\"></a>\n",
    "\n",
    "## 1.1 - Packages ## "
   ]
  },
  {
   "cell_type": "markdown",
   "id": "b386b4b6",
   "metadata": {},
   "source": [
    "Before you get started, you have to import NumPy  to load its functions. As you may notice, even though there is no expected output, when you run this cell, the Jupyter Notebook imports the package (often referred to as the library) and its functions. Try it for yourself and run the following cell. "
   ]
  },
  {
   "cell_type": "code",
   "execution_count": 6,
   "id": "ff2129b2",
   "metadata": {},
   "outputs": [],
   "source": [
    "# pip3 install numpy \n",
    "import numpy as np "
   ]
  },
  {
   "cell_type": "markdown",
   "id": "74b83142",
   "metadata": {},
   "source": [
    "<a name='1-2'></a>\n",
    "## 1.2 - Advantages of using NumPy arrays ##"
   ]
  },
  {
   "cell_type": "markdown",
   "id": "522314f2",
   "metadata": {},
   "source": [
    "Arrays are one of the core data structures of the NumPy library, essential for organizing your data. You can think of them as a grid of values, all of the same type. If you have used Python lists before, you may remember that they are convenient, as you can store different data types. However, Python lists are limited in functions and take up more space and time to process than NumPy arrays. \n",
    "\n",
    "NumPy provides an array object that is much faster and more compact than Python lists. Through its extensive API integration, the library offers many built-in functions that make computing much easier with only a few lines of code. This can be a huge advantage when performing math operations on large datasets. \n",
    "\n",
    "The array object in NumPy is called `ndarray` meaning 'n-dimensional array'. To begin with, you will use one of the most common array types: the one-dimensional array ('1-D'). A 1-D array represents a standard list of values entirely in one dimension. Remember that in NumPy, all of the elements within the array are of the same type."
   ]
  },
  {
   "cell_type": "code",
   "execution_count": 8,
   "id": "2bf86cfa",
   "metadata": {},
   "outputs": [
    {
     "name": "stdout",
     "output_type": "stream",
     "text": [
      "<class 'numpy.ndarray'>\n",
      "[10 12]\n"
     ]
    }
   ],
   "source": [
    "# here we create a one dimensioal array \n",
    "one_dimensinal_arr = np.array([10, 12])\n",
    "print(type(one_dimensinal_arr))\n",
    "print(one_dimensinal_arr)"
   ]
  },
  {
   "cell_type": "markdown",
   "id": "ca2da28e",
   "metadata": {},
   "source": [
    "<a name='1-3'></a>\n",
    "## 1.3 - How to create NumPy arrays ## "
   ]
  },
  {
   "cell_type": "markdown",
   "id": "4aebc56c",
   "metadata": {},
   "source": [
    "There are several ways to create an array in NumPy. You can create a 1-D array by simply using the function `array()` which takes in a list of values as an argument and returns a 1-D array. "
   ]
  },
  {
   "cell_type": "code",
   "execution_count": 9,
   "id": "9f65dc44",
   "metadata": {},
   "outputs": [
    {
     "name": "stdout",
     "output_type": "stream",
     "text": [
      "<class 'numpy.ndarray'>\n",
      "[1 2 3]\n"
     ]
    }
   ],
   "source": [
    "# Create and print a NumPy array 'a' containing the elements 1,2,3\n",
    "a = np.array([1,2,3])\n",
    "print(type(a))\n",
    "print(a)"
   ]
  },
  {
   "cell_type": "markdown",
   "id": "bde8fc96",
   "metadata": {},
   "source": [
    "Another way to implement an array is using `np.arange()`. This function will return an array of evenly spaced values within a given interval. To learn more about the arguments that this functioin takes, there is a powerful feature in Jupyter Notebook that allows you to access the documentation of any function by simply pressing `shift+tab` on your keyboard when clicking on the function. Give it for the built-in documentation of `np.arange()`."
   ]
  },
  {
   "cell_type": "code",
   "execution_count": 10,
   "id": "41b4fa73",
   "metadata": {},
   "outputs": [
    {
     "name": "stdout",
     "output_type": "stream",
     "text": [
      "[ 1  4  7 10 13 16 19]\n"
     ]
    }
   ],
   "source": [
    "# Create array that starts form the integer 1, ends at 20, increased by 3. \n",
    "c = np.arange(1, 20, 3)\n",
    "print(c)"
   ]
  },
  {
   "cell_type": "markdown",
   "id": "9051a25f",
   "metadata": {},
   "source": [
    "What if you wanted to create an array with five evenly spaced values in the interval from 0 to 100? As you may notice, you have 3 parameters that a function must take. One parameter is the starting number, in this case 0, the final number 100 and the number of elements in the array, in this case, 5. \n",
    "\n",
    "Numpyhas a function that allows you to do specially this by using np.linspace()."
   ]
  },
  {
   "cell_type": "code",
   "execution_count": 11,
   "id": "22edd100",
   "metadata": {},
   "outputs": [
    {
     "name": "stdout",
     "output_type": "stream",
     "text": [
      "[  0.  25.  50.  75. 100.]\n"
     ]
    }
   ],
   "source": [
    "lin_spaced_arr = np.linspace(0, 100, 5)\n",
    "print(lin_spaced_arr)"
   ]
  },
  {
   "cell_type": "markdown",
   "id": "78725182",
   "metadata": {},
   "source": [
    "Did you notice that the output of the function is presented in the float value form(e.g. \"...25. 50. ...\")? The reason is that the default type for values in the NumPy function `np.linspace` is a floating point (np.float64). You can easily specify your data type using `dtype`. If you access the built-in documentation of the function, you may notice that most functions take in an optional parameter `dtype`. In addition to float, NumPy has several other data types such as `int`, and `char`. \n",
    "\n",
    "To change the type to integers, you need to set the dtype to `int`. You can do so, even in the previous functions. Feel free to try it out and modify the cells to output your desired data type. "
   ]
  },
  {
   "cell_type": "code",
   "execution_count": 15,
   "id": "e489cf14",
   "metadata": {},
   "outputs": [
    {
     "name": "stdout",
     "output_type": "stream",
     "text": [
      "[  0   1   2   3   4   5   6   7   8   9  10  11  12  13  14  15  16  17\n",
      "  18  19  20  21  22  23  24  25  26  27  28  29  30  31  32  33  34  35\n",
      "  36  37  38  39  40  41  42  43  44  45  46  47  48  49  50  51  52  53\n",
      "  54  55  56  57  58  59  60  61  62  63  64  65  66  67  68  69  70  71\n",
      "  72  73  74  75  76  77  78  79  80  81  82  83  84  85  86  87  88  89\n",
      "  90  91  92  93  94  95  96  97  98 100]\n"
     ]
    }
   ],
   "source": [
    "lin_spaced_arr_int = np.linspace(0, 100, 100, dtype=int)\n",
    "print(lin_spaced_arr_int)"
   ]
  },
  {
   "cell_type": "code",
   "execution_count": 13,
   "id": "7b45058b",
   "metadata": {},
   "outputs": [
    {
     "name": "stdout",
     "output_type": "stream",
     "text": [
      "[ 1  4  7 10 13 16 19]\n"
     ]
    }
   ],
   "source": [
    "c_int = np.arange(1, 20, 3, dtype = int)\n",
    "print(c_int)"
   ]
  },
  {
   "cell_type": "code",
   "execution_count": 14,
   "id": "7c770dab",
   "metadata": {},
   "outputs": [
    {
     "name": "stdout",
     "output_type": "stream",
     "text": [
      "[0. 1. 2.]\n"
     ]
    }
   ],
   "source": [
    "b_float = np.arange(3, dtype=float)\n",
    "print(b_float)"
   ]
  },
  {
   "cell_type": "code",
   "execution_count": 16,
   "id": "d720d1a4",
   "metadata": {},
   "outputs": [
    {
     "name": "stdout",
     "output_type": "stream",
     "text": [
      "['Welcome to Math for ML!']\n",
      "<U23\n"
     ]
    }
   ],
   "source": [
    "# all object that are generated or wraped by NumPy#array supports call method .dtype \n",
    "char_arr = np.array(['Welcome to Math for ML!'])\n",
    "print(char_arr)\n",
    "print(char_arr.dtype) # prints the data type of the array "
   ]
  },
  {
   "cell_type": "markdown",
   "id": "223d4537",
   "metadata": {},
   "source": [
    "Did you notice that the output of the data type of the `char_arr` array is `<U23`? This is means that the string (`Welcome to Math for ML!`) is a 23-character (23) unicode string (`U`) on a little-endian architecture(`<`). You can learn more about data types [here](https://numpy.org/doc/stable/user/basics.types.html). "
   ]
  },
  {
   "cell_type": "markdown",
   "id": "efdd1fed",
   "metadata": {},
   "source": [
    "<a name='1-4'></a>\n",
    "## 1.4 - More on NumPy arrays ## \n",
    "\n",
    "One of the advantages of using NumPy is that you can easily create arrays with built-in functions such as:\n",
    "\n",
    "- `np.ones()` - Returns a new array setting values to one.\n",
    "- `np.zeros()` - Returns a new array setting values to zero. \n",
    "- `np.empty()` - Returns a new uninitialized array.\n",
    "- `np.random.rand()` - Returns a new array with values chosen at random."
   ]
  },
  {
   "cell_type": "code",
   "execution_count": 17,
   "id": "e0310181",
   "metadata": {},
   "outputs": [
    {
     "name": "stdout",
     "output_type": "stream",
     "text": [
      "<class 'numpy.ndarray'>\n",
      "[1. 1. 1.]\n",
      "3\n"
     ]
    }
   ],
   "source": [
    "# return a new array of shape 3, filled with ones \n",
    "ones_arr = np.ones(3)\n",
    "print(type(ones_arr))\n",
    "print(ones_arr)\n",
    "print(len(ones_arr))"
   ]
  },
  {
   "cell_type": "code",
   "execution_count": 18,
   "id": "f6e506bb",
   "metadata": {},
   "outputs": [
    {
     "name": "stdout",
     "output_type": "stream",
     "text": [
      "[0. 0. 0.]\n",
      "3\n",
      "<class 'numpy.ndarray'>\n"
     ]
    }
   ],
   "source": [
    "# return a new array of shape 3, filled with zeros. \n",
    "zeros_arr = np.zeros(3)\n",
    "print(zeros_arr)\n",
    "print(len(zeros_arr))\n",
    "print(type(zeros_arr))"
   ]
  },
  {
   "cell_type": "code",
   "execution_count": 19,
   "id": "35359fd6",
   "metadata": {},
   "outputs": [
    {
     "name": "stdout",
     "output_type": "stream",
     "text": [
      "[0. 0. 0.]\n",
      "<class 'numpy.ndarray'>\n",
      "3\n"
     ]
    }
   ],
   "source": [
    "# Return a new array of shape 3, without initializing entries.\n",
    "empt_arr = np.empty(3)\n",
    "print(empt_arr)\n",
    "print(type(empt_arr))\n",
    "print(len(empt_arr))"
   ]
  },
  {
   "cell_type": "code",
   "execution_count": 20,
   "id": "dc5de10b",
   "metadata": {},
   "outputs": [
    {
     "name": "stdout",
     "output_type": "stream",
     "text": [
      "[0.19460427 0.86384012 0.74092822]\n",
      "3\n",
      "<class 'numpy.ndarray'>\n"
     ]
    }
   ],
   "source": [
    "# Return a new array of shape 3 with random numbers between 0 and 1. \n",
    "rand_arr = np.random.rand(3)\n",
    "print(rand_arr)\n",
    "print(len(rand_arr))\n",
    "print(type(rand_arr))"
   ]
  },
  {
   "cell_type": "markdown",
   "id": "c39aa2db",
   "metadata": {},
   "source": [
    "<a name='2'></a>\n",
    "# 2 - Multidimensional Arrays #\n",
    "\n",
    "With NumPy you can also create arrays with more than one dimension. In the above examples, you dealt with 1-D arrays, where you can access their elements using a single index. A multidimensional array has more than one column. Think of a multidimensional array as an excel sheet where each row/column represents a dimension. "
   ]
  },
  {
   "cell_type": "code",
   "execution_count": 21,
   "id": "4ff5561a",
   "metadata": {},
   "outputs": [
    {
     "name": "stdout",
     "output_type": "stream",
     "text": [
      "[[1 2 3]\n",
      " [4 5 6]]\n"
     ]
    }
   ],
   "source": [
    "# create a 2 dimensional array (2-D)\n",
    "two_dim_arr = np.array([[1,2,3],[4,5,6]])\n",
    "print(two_dim_arr)"
   ]
  },
  {
   "cell_type": "markdown",
   "id": "3ce7b5fa",
   "metadata": {},
   "source": [
    "An alternative way to create a multidimensional arrray is by reshaping the initial 1-D array. Using `np.reshape()` you can rearrange elements of the previous array into a new shape. "
   ]
  },
  {
   "cell_type": "code",
   "execution_count": 26,
   "id": "e7a79c67",
   "metadata": {},
   "outputs": [
    {
     "name": "stdout",
     "output_type": "stream",
     "text": [
      "[[1 2 3 4]\n",
      " [5 6 7 8]]\n"
     ]
    }
   ],
   "source": [
    "# first define a array of 1-D array\n",
    "one_dim_arr = np.array([1,2,3,4,5,6,7,8])\n",
    "\n",
    "# use reshape to convert 1-D 1 * 8 array into a 2 * 4 2-D array \n",
    "multi_dim_arr = np.reshape(one_dim_arr, (2,4))\n",
    "\n",
    "print(multi_dim_arr)\n",
    "\n",
    "# or what happen if we reshape into a 2 * 7 > total element count array ?\n",
    "# it will print ValueError\n",
    "#multi_dim_arr2 = np.reshape(one_dim_arr, (2, 7))\n",
    "#print(multi_dim_arr2)\n",
    "\n",
    "# or what happend if we reshape into a 2 * 2 < total element count 2-D array?\n",
    "# also got a ValueError\n",
    "# multi_dim_arr3 = np.reshape(one_dim_arr, (2,2))\n",
    "#print(multi_dim_arr3)\n",
    "\n",
    "# M * N of the reshape should equal to the element's total number \n",
    "# otherwise you will got an error of ValueError like\n",
    "# the M * N == cnt(multi_dim_arr) otherwise it will got an exception of  ValueError: cannot reshape array of size 8 into shape (2,2)# "
   ]
  },
  {
   "cell_type": "markdown",
   "id": "2d155b2f",
   "metadata": {},
   "source": [
    "<a name='2-1'></a>\n",
    "## 2.1 - Finding size, shape and dimension. ## "
   ]
  },
  {
   "cell_type": "markdown",
   "id": "63a37946",
   "metadata": {},
   "source": [
    "In future assignments, you will need to know how to find the size, dimension and shape of an array. These are all attributes of a `ndarray` and canb e accessed as follows: \n",
    "\n",
    "- `ndarray.nidm` - Stores the number dimensions of the array.\n",
    "- `ndarray.shape` - Stores the shape of the array. Each number in the tuple denotes the lengths of each corresponding dimension.\n",
    "\n",
    "\n",
    "- `ndarray.size` - Stores the number of elements in the array. "
   ]
  },
  {
   "cell_type": "code",
   "execution_count": 28,
   "id": "72434f1c",
   "metadata": {},
   "outputs": [
    {
     "name": "stdout",
     "output_type": "stream",
     "text": [
      "2\n",
      "<class 'int'>\n"
     ]
    }
   ],
   "source": [
    "# get value of n-dimension of the multi-dimension(2-D) array: multi_dim_arr\n",
    "print(multi_dim_arr.ndim) # 2-D should print 2 \n",
    "print(type(multi_dim_arr.ndim)) # int type "
   ]
  },
  {
   "cell_type": "code",
   "execution_count": 30,
   "id": "64c6fd98",
   "metadata": {},
   "outputs": [
    {
     "name": "stdout",
     "output_type": "stream",
     "text": [
      "(2, 4)\n",
      "[[1 2]\n",
      " [3 4]\n",
      " [5 6]\n",
      " [7 8]]\n",
      "(2, 4)\n",
      "<class 'tuple'>\n",
      "(4, 2)\n"
     ]
    }
   ],
   "source": [
    "# get value of the shape of the n-dimension of the multi-dimension(2-D) array: multi_dim_arr\n",
    "print(multi_dim_arr.shape) # should be 2 * 4\n",
    "# here reshape it into a 4 * 2\n",
    "reshape_arr = np.reshape(multi_dim_arr, (4,2))\n",
    "print(reshape_arr)\n",
    "print(multi_dim_arr.shape) # (2,4) the orignal shape value \n",
    "print(reshape_arr.shape)   # (4,2) the already shaped value \n",
    "print(type(reshape_arr.shape)) # type of the shape is a class of tuple "
   ]
  },
  {
   "cell_type": "code",
   "execution_count": 32,
   "id": "1e8573c1",
   "metadata": {},
   "outputs": [
    {
     "name": "stdout",
     "output_type": "stream",
     "text": [
      "8\n",
      "<class 'int'>\n"
     ]
    }
   ],
   "source": [
    "# size of the array multi_dim_arr \n",
    "# returns total number of elements \n",
    "print(multi_dim_arr.size) # size is the total element, here return 8 \n",
    "print(type(multi_dim_arr.size)) # int "
   ]
  },
  {
   "cell_type": "markdown",
   "id": "a8239767",
   "metadata": {},
   "source": [
    "<a name='3'></a>\n",
    "# 3 - Array math operations #\n",
    "In this section, you will see that NumPy allows you to quickly perform elementwise addition, substraction, multiplication and division for both 1-D and multidimensional arrays. The operations are performed using the math symbol for each '+', '-' and '*'. Recall that addition of Python lists works completely differently as it would append the lists, thus making a longer list, in addition, subtraction and multiplicaiton of Python lists do not work."
   ]
  },
  {
   "cell_type": "code",
   "execution_count": 35,
   "id": "ee24c29e",
   "metadata": {},
   "outputs": [
    {
     "name": "stdout",
     "output_type": "stream",
     "text": [
      "[ 3  7 11]\n",
      "[1 1 1]\n",
      "[ 2 12 30]\n"
     ]
    }
   ],
   "source": [
    "arr_1 = np.array([2,4,6])\n",
    "arr_2 = np.array([1,3,5])\n",
    "\n",
    "# adding two 1-D arrays\n",
    "addition = arr_1 + arr_2\n",
    "print(addition)\n",
    "\n",
    "# subtracting two 1-D arrays \n",
    "subtraction = arr_1 - arr_2 \n",
    "print(subtraction)\n",
    "\n",
    "# multiplying two 1-D arrays \n",
    "multiplication = arr_1 * arr_2 \n",
    "print(multiplication)"
   ]
  },
  {
   "cell_type": "markdown",
   "id": "5296fc00",
   "metadata": {},
   "source": [
    "<a name='3-1'></a>\n",
    "\n",
    "## 3.1 - Multiplying vector with a scalar (broadcasting) ## \n",
    "Suppose you need to convert miles to kilometers. To do so, you can use the NumPy array functions that you've learned so far. You can do this by carrying out an operation between an array(miles) and a single number (the conversion rate which is a scalar). Since, 1 mile = 1.6 km, NumPy computes each multiplicaiton within each cell. \n",
    "\n",
    "This concept is called **broadcasting**, which allows you to perform operations specifically on arrays of different shapes. "
   ]
  },
  {
   "cell_type": "code",
   "execution_count": 39,
   "id": "804ad2d3",
   "metadata": {},
   "outputs": [
    {
     "name": "stdout",
     "output_type": "stream",
     "text": [
      "[0.00857488 0.56246172 0.59306079 0.66291394]\n",
      "[[0.00857488 0.56246172]\n",
      " [0.59306079 0.66291394]]\n",
      "[[ 0.85748791 56.24617192]\n",
      " [59.30607901 66.29139382]]\n"
     ]
    }
   ],
   "source": [
    "vector = np.random.rand(4)\n",
    "print(vector)\n",
    "vector_multi_dim = np.reshape(vector, (2,2))\n",
    "print(vector_multi_dim)\n",
    "ans = vector_multi_dim * 100\n",
    "print(ans)"
   ]
  },
  {
   "cell_type": "markdown",
   "id": "8e617cbe",
   "metadata": {},
   "source": [
    "<a name='4'></a>\n",
    "# 4 - Indexing and slicing # \n",
    "\n",
    "Indexing is very useful as it allows you to select specific elements from an array. It also lets you select entire rows/columns or planes as you'll see in future assignments for multidimensional arrays. \n",
    "\n",
    "## 4.1 - Indexing ## \n",
    "Let us select specific elements from the arrays as given. \n"
   ]
  },
  {
   "cell_type": "code",
   "execution_count": 42,
   "id": "c33248ee",
   "metadata": {},
   "outputs": [
    {
     "name": "stdout",
     "output_type": "stream",
     "text": [
      "3\n",
      "1\n"
     ]
    }
   ],
   "source": [
    "# Select the third element of the array. Remember the counting starts from 0.\n",
    "a = ([1,2,3,4,5,6])\n",
    "print(a[2]) # a[0], a[1], a[2](3rd)\n",
    "\n",
    "# Select the first element of the array.\n",
    "print(a[0])"
   ]
  },
  {
   "cell_type": "markdown",
   "id": "421ed9cf",
   "metadata": {},
   "source": [
    "For multidimensional arrays of shape n, to index a specific element, you must input n indices, one for each dimension. "
   ]
  },
  {
   "cell_type": "code",
   "execution_count": 43,
   "id": "37cdddfe",
   "metadata": {},
   "outputs": [
    {
     "name": "stdout",
     "output_type": "stream",
     "text": [
      "[[1 2 3]\n",
      " [4 5 6]\n",
      " [7 8 9]]\n"
     ]
    }
   ],
   "source": [
    "# indexing a 2-D array \n",
    "two_dim = np.array(([1,2,3],[4,5,6],[7,8,9]))\n",
    "print(two_dim)\n",
    "\n",
    "# select element number 8 from the 2-D array using indices i,j.\n",
    "print(two_dim[2][1]) # which means the 3rd one in row/x-aix, the 2nd one in column/y-aix"
   ]
  },
  {
   "cell_type": "markdown",
   "id": "553c33ae",
   "metadata": {},
   "source": [
    "<a name='4-2'></a>\n",
    "## 4.2 - Slicing ## \n",
    "Slicing gives you a sublist of elements that you specify from the array. The slice notation specifies a start and end value, and copies the list from start up to but not including the end (end-exclusive). \n",
    "\n",
    "The syntax is: \n",
    "`array[start:end:step]`\n",
    "\n",
    "If no value is passed to start, it is assumed `start = 0`, if no value is passed to end, it is assumed that `end = length of array -1` and if no value is passed to step, it is assumed `step = 1`."
   ]
  },
  {
   "cell_type": "code",
   "execution_count": 53,
   "id": "e878fe50",
   "metadata": {},
   "outputs": [
    {
     "name": "stdout",
     "output_type": "stream",
     "text": [
      "[2, 3, 4]\n",
      "[2, 3, 4, 5, 6]\n",
      "[1, 2, 3, 4, 5, 6]\n",
      "[1, 2, 3]\n",
      "[3, 4, 5]\n"
     ]
    }
   ],
   "source": [
    "# Slice the array a to get the array [2,3,4]\n",
    "sliced_arr = a[1:4]\n",
    "print(sliced_arr)\n",
    "# a = ([1,2,3,4,5,6])\n",
    "arr = a[1:100:1]\n",
    "print(arr)\n",
    "\n",
    "\n"
   ]
  },
  {
   "cell_type": "code",
   "execution_count": 55,
   "id": "9bfb0b76",
   "metadata": {},
   "outputs": [
    {
     "name": "stdout",
     "output_type": "stream",
     "text": [
      "[1, 2, 3, 4, 5, 6]\n",
      "[1, 2, 3]\n"
     ]
    }
   ],
   "source": [
    "# Slice the array to get the array [1,2,3]\n",
    "print(a)\n",
    "a1 = a[0:3:1]\n",
    "print(a1)\n"
   ]
  },
  {
   "cell_type": "code",
   "execution_count": 54,
   "id": "61385340",
   "metadata": {},
   "outputs": [
    {
     "name": "stdout",
     "output_type": "stream",
     "text": [
      "[3, 4, 5]\n"
     ]
    }
   ],
   "source": [
    "# Slice the array to get the array [3,4,5]\n",
    "a1 = a[2:5]\n",
    "print(a1)"
   ]
  },
  {
   "cell_type": "code",
   "execution_count": 56,
   "id": "8b857ac8",
   "metadata": {},
   "outputs": [
    {
     "name": "stdout",
     "output_type": "stream",
     "text": [
      "[1, 3, 5]\n"
     ]
    }
   ],
   "source": [
    "# Slice the array to get the array [1,3,5]\n",
    "a1 = a[::2]\n",
    "print(a1)"
   ]
  },
  {
   "cell_type": "code",
   "execution_count": 57,
   "id": "55881a8c",
   "metadata": {},
   "outputs": [
    {
     "name": "stdout",
     "output_type": "stream",
     "text": [
      "True\n"
     ]
    }
   ],
   "source": [
    "# Note that a == a[:] = a[::]\n",
    "print(a == a[:] == a[::])"
   ]
  },
  {
   "cell_type": "code",
   "execution_count": 58,
   "id": "68d92b2b",
   "metadata": {},
   "outputs": [
    {
     "name": "stdout",
     "output_type": "stream",
     "text": [
      "[[1 2 3]\n",
      " [4 5 6]]\n"
     ]
    }
   ],
   "source": [
    "# Slice the two_dim array to get the first two rows\n",
    "sliced_arr = two_dim[0:2] # here the a:b a, b is refered to the rows \n",
    "print(sliced_arr)"
   ]
  },
  {
   "cell_type": "code",
   "execution_count": 59,
   "id": "f9dd5e2c",
   "metadata": {},
   "outputs": [
    {
     "name": "stdout",
     "output_type": "stream",
     "text": [
      "[[4 5 6]\n",
      " [7 8 9]]\n"
     ]
    }
   ],
   "source": [
    "# Slice the two_dim array to get the last two rows \n",
    "sliced_arr = two_dim[1:3]\n",
    "print(sliced_arr)"
   ]
  },
  {
   "cell_type": "code",
   "execution_count": 60,
   "id": "11556f69",
   "metadata": {},
   "outputs": [
    {
     "name": "stdout",
     "output_type": "stream",
     "text": [
      "[2 5 8]\n"
     ]
    }
   ],
   "source": [
    "# Slice the middle column of the 2-D array\n",
    "sliced_arr = two_dim[:,1]\n",
    "print(sliced_arr)"
   ]
  },
  {
   "cell_type": "code",
   "execution_count": 73,
   "id": "27736f85",
   "metadata": {},
   "outputs": [
    {
     "name": "stdout",
     "output_type": "stream",
     "text": [
      "[[1 2 3]\n",
      " [4 5 6]\n",
      " [7 8 9]]\n"
     ]
    }
   ],
   "source": [
    "sliced_arr = two_dim[:,0:2] # select the [0,2) columns from the original 2-D array \n",
    "print(sliced_arr)"
   ]
  },
  {
   "cell_type": "markdown",
   "id": "96bd07d7",
   "metadata": {},
   "source": [
    "<a name='5'></a>\n",
    "\n",
    "# 5 - Stacking # \n",
    "\n",
    "Finally, stacking is a feature of NumPy that leads to increased customization of array. It means to join two or more arrays, either horizontally or vertically, meaning that it is done along a new axis. \n",
    "\n",
    "- `np.vstack()` - stacks vertically\n",
    "- `np.hstack()` - stacks horizontally \n",
    "- `np.hsplit()` - splits an array into several smaller arrays"
   ]
  },
  {
   "cell_type": "code",
   "execution_count": 79,
   "id": "293cab03",
   "metadata": {},
   "outputs": [
    {
     "name": "stdout",
     "output_type": "stream",
     "text": [
      "2\n",
      "(2, 2)\n",
      "2\n",
      "(2, 2)\n"
     ]
    }
   ],
   "source": [
    "a1 = np.array([[1,1], [2,2]])  # 2 * 2 2-D array \n",
    "a2 = np.array([[3,3], [4,4]])\n",
    "print(a1.ndim)\n",
    "print(a1.shape)\n",
    "\n",
    "\n",
    "print(a2.ndim)\n",
    "print(a2.shape)\n"
   ]
  },
  {
   "cell_type": "code",
   "execution_count": 81,
   "id": "b9860215",
   "metadata": {},
   "outputs": [
    {
     "name": "stdout",
     "output_type": "stream",
     "text": [
      "2\n",
      "(4, 2)\n"
     ]
    }
   ],
   "source": [
    "# Stack the arrays vertically \n",
    "vert_stack = np.vstack((a1, a2)) \n",
    "\n",
    "# vstack means vertically merge the two same dimensional and same shape arrays \n",
    "# vertically stack operation effects the stacked item's (array's) row value row = two stacked arrays sum up value \n",
    "print(vert_stack.ndim)\n",
    "print(vert_stack.shape)"
   ]
  },
  {
   "cell_type": "code",
   "execution_count": 82,
   "id": "bf6dfb3a",
   "metadata": {},
   "outputs": [
    {
     "name": "stdout",
     "output_type": "stream",
     "text": [
      "2\n",
      "(2, 4)\n"
     ]
    }
   ],
   "source": [
    "# correspoindingly the hstack means the horizontal merge the two same dimensonal and same shape array together \n",
    "# horizontally stack operation effects the stacked result's column value column value = two stacked arrays' column value sum up value \n",
    "\n",
    "\n",
    "# actually, vertical stack requires the two stack merged array has the same column and modify the stacked result's row value \n",
    "# the horizontal stack requires the two stack merged array shares the same dimension and the same row and sum up the column value \n",
    "\n",
    "\n",
    "# Stack the arrays horizontally \n",
    "hori_stack = np.hstack((a1,a2))\n",
    "\n",
    "# shape should be the 2 * 4 \n",
    "print(hori_stack.ndim) # dimension value will not change \n",
    "print(hori_stack.shape)"
   ]
  }
 ],
 "metadata": {
  "kernelspec": {
   "display_name": "Python 3 (ipykernel)",
   "language": "python",
   "name": "python3"
  },
  "language_info": {
   "codemirror_mode": {
    "name": "ipython",
    "version": 3
   },
   "file_extension": ".py",
   "mimetype": "text/x-python",
   "name": "python",
   "nbconvert_exporter": "python",
   "pygments_lexer": "ipython3",
   "version": "3.9.6"
  }
 },
 "nbformat": 4,
 "nbformat_minor": 5
}
