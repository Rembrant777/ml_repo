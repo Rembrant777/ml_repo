# you need to pip install jupyter first 
# then set up jupyter by run jupyter lab command in your iterm(mac book/mac air)
# then pip install openai 
# make user you have an open ai account 
# then apply(to generate) your api key on https://platform.openai.com/ key api page 
# then sync your api key to your current environment variables with name = OPENAI_API_KEY
# then begin the following python coding 
####################################################################################

import os
import openai

# set your api key to your openai client config  
openai.api_key = 'sk-xxxx'
os.environ['OPENAI_API_KEY'] = openai.api_key

# request all the models from openai remote service 
models = openai.Model.list()

# print all the models in a list 
#print(models)


# prepare your dataset and organized them in speicified format pattern 
# then directly exeucte the following command on your jupyter 
# and you need to specify the customized model name  
!openai api fine_tunes.create -t ./dataset/finetune_dataset1.txt  -m davinci --suffix 'davinci_model_002'

# you will get a fine_tune_job_id from the response message above that begin with the key word ft-xxxx 
fine_tune_job_id_001 = "ft-xxxx"

# then execute the command directly in your jupyter you will get the your customized trained models' status   
!openai api fine_tunes.follow -i $fine_tune_job_id_001

# and the trained result (success or not )
!openai api fine_tunes.results -i $fine_tune_job_id_001

# then you will get your complete model name from the above opanai command's response content
# set it to the variable model  
model = "davinci:ft-personal:{your_trained_model_name}"

# the message your provided to your trained model 
prompt = "Samsung Galaxy Feel"

# here we send the request with the given model name and the your request message content 
response = openai.Completion.create(model=model,prompt=prompt)

# print the response message on the console 
print(response)
